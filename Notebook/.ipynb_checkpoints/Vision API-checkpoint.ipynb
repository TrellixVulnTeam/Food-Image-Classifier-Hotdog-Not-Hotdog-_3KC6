{
 "cells": [
  {
   "cell_type": "code",
   "execution_count": 1,
   "id": "e812963f",
   "metadata": {},
   "outputs": [],
   "source": [
    "import requests\n",
    "import json\n",
    "import io\n",
    "import os\n",
    "import pandas as pd\n",
    "from google.cloud import vision\n",
    "from google.cloud.vision_v1 import types"
   ]
  },
  {
   "cell_type": "code",
   "execution_count": 2,
   "id": "2972aeda",
   "metadata": {},
   "outputs": [],
   "source": [
    "os.environ['GOOGLE_APPLICATION_CREDENTIALS'] = '../API Keys/tidy-rainfall-319903-abacb870352d.json'"
   ]
  },
  {
   "cell_type": "code",
   "execution_count": 3,
   "id": "becc6e07",
   "metadata": {},
   "outputs": [],
   "source": [
    "image_uri= 'https://files.worldwildlife.org/wwfcmsprod/images/Panda_in_Tree/hero_full/2wgwt9z093_Large_WW170579.jpg'"
   ]
  },
  {
   "cell_type": "code",
   "execution_count": 4,
   "id": "b32eb8f5",
   "metadata": {},
   "outputs": [],
   "source": [
    "# with io.open(\"../Images/hotdog1.jpg\", 'rb') as image_file:\n",
    "#         content = image_file.read()\n",
    "#     image = vision.Image(content=content)"
   ]
  },
  {
   "cell_type": "code",
   "execution_count": 5,
   "id": "97f6d104",
   "metadata": {},
   "outputs": [],
   "source": [
    "# image = types.Image()\n",
    "# image.source.image_uri = image_uri"
   ]
  },
  {
   "cell_type": "code",
   "execution_count": 6,
   "id": "718edd93",
   "metadata": {},
   "outputs": [],
   "source": [
    "def detection():\n",
    "    # Instantiates a client\n",
    "    client = vision.ImageAnnotatorClient()\n",
    "    \n",
    "    with io.open(\"../Images/holdinghotdog.jpg\", 'rb') as image_file:\n",
    "        content = image_file.read()\n",
    "    image = vision.Image(content=content)\n",
    "\n",
    "    # Performs label detection on the image file\n",
    "    response = client.label_detection(image=image)\n",
    "    labels = response.label_annotations\n",
    "    \n",
    "    return labels"
   ]
  },
  {
   "cell_type": "code",
   "execution_count": 7,
   "id": "b19bde00",
   "metadata": {},
   "outputs": [],
   "source": [
    "labels = detection()"
   ]
  },
  {
   "cell_type": "code",
   "execution_count": 8,
   "id": "2b36b88c",
   "metadata": {},
   "outputs": [],
   "source": [
    "labels_dict = {}\n",
    "for pred in labels:\n",
    "    labels_dict[pred.description] = pred.score"
   ]
  },
  {
   "cell_type": "code",
   "execution_count": 9,
   "id": "6a3c7bc0",
   "metadata": {},
   "outputs": [
    {
     "data": {
      "text/plain": [
       "{'Dress shirt': 0.8226920962333679,\n",
       " 'Blazer': 0.7826357483863831,\n",
       " 'Flash photography': 0.7687575221061707,\n",
       " 'Formal wear': 0.7309859395027161,\n",
       " 'Event': 0.7112450003623962,\n",
       " 'Suit': 0.7062214016914368,\n",
       " 'White-collar worker': 0.6685489416122437,\n",
       " 'Spokesperson': 0.6619879603385925,\n",
       " 'Speech': 0.6556850075721741,\n",
       " 'Food': 0.633368194103241}"
      ]
     },
     "execution_count": 9,
     "metadata": {},
     "output_type": "execute_result"
    }
   ],
   "source": [
    "labels_dict"
   ]
  },
  {
   "cell_type": "code",
   "execution_count": 10,
   "id": "620c1c65",
   "metadata": {},
   "outputs": [
    {
     "name": "stdout",
     "output_type": "stream",
     "text": [
      "Not Hot Dog\n"
     ]
    }
   ],
   "source": [
    "if \"Hot dog\" not in labels_dict.keys():\n",
    "    print('Not Hot Dog')\n",
    "else:\n",
    "    if labels_dict[\"Hot dog\"] > .5:\n",
    "        print('Hot Dog')\n",
    "    else:\n",
    "        print('Not Hot Dog')"
   ]
  },
  {
   "cell_type": "code",
   "execution_count": null,
   "id": "ce66ef24",
   "metadata": {},
   "outputs": [],
   "source": []
  }
 ],
 "metadata": {
  "kernelspec": {
   "display_name": "Python 3",
   "language": "python",
   "name": "python3"
  },
  "language_info": {
   "codemirror_mode": {
    "name": "ipython",
    "version": 3
   },
   "file_extension": ".py",
   "mimetype": "text/x-python",
   "name": "python",
   "nbconvert_exporter": "python",
   "pygments_lexer": "ipython3",
   "version": "3.7.4"
  }
 },
 "nbformat": 4,
 "nbformat_minor": 5
}
